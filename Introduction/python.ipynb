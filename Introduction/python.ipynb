{
  "nbformat": 4,
  "nbformat_minor": 0,
  "metadata": {
    "colab": {
      "provenance": [],
      "collapsed_sections": [],
      "authorship_tag": "ABX9TyPZGK8i/Ocmh3ZaS5s2Av2C",
      "include_colab_link": true
    },
    "kernelspec": {
      "name": "python3",
      "display_name": "Python 3"
    },
    "language_info": {
      "name": "python"
    }
  },
  "cells": [
    {
      "cell_type": "markdown",
      "metadata": {
        "id": "view-in-github",
        "colab_type": "text"
      },
      "source": [
        "<a href=\"https://colab.research.google.com/github/Sayak459/Python/blob/main/Introduction/python.ipynb\" target=\"_parent\"><img src=\"https://colab.research.google.com/assets/colab-badge.svg\" alt=\"Open In Colab\"/></a>"
      ]
    },
    {
      "cell_type": "code",
      "execution_count": null,
      "metadata": {
        "colab": {
          "base_uri": "https://localhost:8080/"
        },
        "id": "o_yidVQ4ee1A",
        "outputId": "c0aa6092-8279-4e53-cab4-0dbf9442f485"
      },
      "outputs": [
        {
          "output_type": "stream",
          "name": "stdout",
          "text": [
            "sayak hajra\n"
          ]
        }
      ],
      "source": [
        "s1=\"sayak hajra\"\n",
        "print(s1)"
      ]
    },
    {
      "cell_type": "code",
      "source": [
        "s2=str(input(\"enter a string\"))\n",
        "print(\"Hello!\"+s2)"
      ],
      "metadata": {
        "colab": {
          "base_uri": "https://localhost:8080/"
        },
        "id": "RwLihNdUh4_Q",
        "outputId": "14b7fbe1-f297-460f-ecdf-561cc4c12ecf"
      },
      "execution_count": null,
      "outputs": [
        {
          "output_type": "stream",
          "name": "stdout",
          "text": [
            "enter a stringsayak\n",
            "Hello!sayak\n"
          ]
        }
      ]
    },
    {
      "cell_type": "code",
      "source": [
        "s3=45\n",
        "s4=675\n",
        "print(s3+s4)"
      ],
      "metadata": {
        "colab": {
          "base_uri": "https://localhost:8080/"
        },
        "id": "Fn3UEHVSiVS_",
        "outputId": "9492b104-cd74-42ac-abb3-da807e38dd66"
      },
      "execution_count": null,
      "outputs": [
        {
          "output_type": "stream",
          "name": "stdout",
          "text": [
            "720\n"
          ]
        }
      ]
    },
    {
      "cell_type": "code",
      "source": [
        "s5=78\n",
        "s6=65\n",
        "print(s5-s6)"
      ],
      "metadata": {
        "colab": {
          "base_uri": "https://localhost:8080/"
        },
        "id": "2ODwX20DicQk",
        "outputId": "45030796-7b64-4e78-ec7b-2f7524bec11d"
      },
      "execution_count": null,
      "outputs": [
        {
          "output_type": "stream",
          "name": "stdout",
          "text": [
            "13\n"
          ]
        }
      ]
    },
    {
      "cell_type": "code",
      "source": [
        "s8=65\n",
        "s9=56\n",
        "print(s8*s9)"
      ],
      "metadata": {
        "colab": {
          "base_uri": "https://localhost:8080/"
        },
        "id": "E9hZCAT5im0a",
        "outputId": "58e2fb40-e5a6-43a5-bf79-1528ccdfefd4"
      },
      "execution_count": null,
      "outputs": [
        {
          "output_type": "stream",
          "name": "stdout",
          "text": [
            "3640\n"
          ]
        }
      ]
    },
    {
      "cell_type": "code",
      "source": [
        "s1=60\n",
        "s2=6\n",
        "print(s1/s2)"
      ],
      "metadata": {
        "colab": {
          "base_uri": "https://localhost:8080/"
        },
        "id": "hT56k6CUiz7n",
        "outputId": "88bb0013-ff47-482a-c67e-c8ccdd4cc26a"
      },
      "execution_count": null,
      "outputs": [
        {
          "output_type": "stream",
          "name": "stdout",
          "text": [
            "10.0\n"
          ]
        }
      ]
    },
    {
      "cell_type": "code",
      "source": [
        "import math\n",
        "s1=78.6\n",
        "s2=8.9\n",
        "math.trunc(78.6)\n",
        "print(s1/s2)"
      ],
      "metadata": {
        "colab": {
          "base_uri": "https://localhost:8080/"
        },
        "id": "VEcqr9L2jFYe",
        "outputId": "415218ca-0541-4a9d-80d8-a2857a149909"
      },
      "execution_count": null,
      "outputs": [
        {
          "output_type": "stream",
          "name": "stdout",
          "text": [
            "8.831460674157302\n"
          ]
        }
      ]
    },
    {
      "cell_type": "code",
      "source": [
        "import math\n",
        "S=67.45\n",
        "J=56.56\n",
        "math.trunc(S)\n",
        "math.trunc(J)\n",
        "print(S/J)"
      ],
      "metadata": {
        "colab": {
          "base_uri": "https://localhost:8080/"
        },
        "id": "9cmyjUB7wviz",
        "outputId": "dad14404-9712-4ca8-c939-fcf42183b1df"
      },
      "execution_count": null,
      "outputs": [
        {
          "output_type": "stream",
          "name": "stdout",
          "text": [
            "1.1925388967468176\n"
          ]
        }
      ]
    },
    {
      "cell_type": "code",
      "source": [
        "S=('''Yes,he said.It doesnt matter.\n",
        "\"isnt it\",She said''')\n",
        "print(S)"
      ],
      "metadata": {
        "colab": {
          "base_uri": "https://localhost:8080/"
        },
        "id": "-hFQmUZyVv6Q",
        "outputId": "fa894b69-bc83-4fb4-d4ef-9891e9733daf"
      },
      "execution_count": null,
      "outputs": [
        {
          "output_type": "stream",
          "name": "stdout",
          "text": [
            "Yes,he said.It doesnt matter.\n",
            "\"isnt it\",She said\n"
          ]
        }
      ]
    },
    {
      "cell_type": "code",
      "source": [
        "s=\"my name is sayak\"\n",
        "print(s[0:5])"
      ],
      "metadata": {
        "colab": {
          "base_uri": "https://localhost:8080/"
        },
        "id": "N8KowXv1Xj_u",
        "outputId": "a57c7d28-b23b-44ec-b61c-343b13b7d900"
      },
      "execution_count": null,
      "outputs": [
        {
          "output_type": "stream",
          "name": "stdout",
          "text": [
            "my na\n"
          ]
        }
      ]
    },
    {
      "cell_type": "code",
      "source": [
        "s=\"hey! \\nsayak\"\n",
        "print(s)"
      ],
      "metadata": {
        "colab": {
          "base_uri": "https://localhost:8080/"
        },
        "id": "-AGZRHJ9Xx_5",
        "outputId": "47594f14-9c81-4380-fdf8-c45a2847dbfa"
      },
      "execution_count": null,
      "outputs": [
        {
          "output_type": "stream",
          "name": "stdout",
          "text": [
            "hey! \n",
            "sayak\n"
          ]
        }
      ]
    },
    {
      "cell_type": "code",
      "source": [
        "s=\"(hey)\"\n",
        "print(s)"
      ],
      "metadata": {
        "colab": {
          "base_uri": "https://localhost:8080/"
        },
        "id": "cjYteTcdX7Ej",
        "outputId": "068119e9-c1c3-43de-cedd-2b527a485e4c"
      },
      "execution_count": null,
      "outputs": [
        {
          "output_type": "stream",
          "name": "stdout",
          "text": [
            "(hey)\n"
          ]
        }
      ]
    },
    {
      "cell_type": "code",
      "source": [
        "s=\"78\"\n",
        "r=int(s)\n",
        "print(type(r))"
      ],
      "metadata": {
        "colab": {
          "base_uri": "https://localhost:8080/"
        },
        "id": "kDWEL7AjYfF1",
        "outputId": "9bb037df-98d8-41e1-a88f-d497f13e86bb"
      },
      "execution_count": null,
      "outputs": [
        {
          "output_type": "stream",
          "name": "stdout",
          "text": [
            "<class 'int'>\n"
          ]
        }
      ]
    },
    {
      "cell_type": "code",
      "source": [
        "s=56\n",
        "r=str(s)\n",
        "print(type(r))"
      ],
      "metadata": {
        "colab": {
          "base_uri": "https://localhost:8080/"
        },
        "id": "Ml7xYHstZ5Iv",
        "outputId": "5ae52648-7f5d-4078-ffb9-c2f50ef1f1e5"
      },
      "execution_count": null,
      "outputs": [
        {
          "output_type": "stream",
          "name": "stdout",
          "text": [
            "<class 'str'>\n"
          ]
        }
      ]
    },
    {
      "cell_type": "code",
      "source": [
        "s=\"hey\"\n",
        "h=\"there\"\n",
        "print(s,h)"
      ],
      "metadata": {
        "colab": {
          "base_uri": "https://localhost:8080/"
        },
        "id": "9_w7fWc9bEuK",
        "outputId": "7e0106b2-db61-4d27-9068-10013d6280d6"
      },
      "execution_count": null,
      "outputs": [
        {
          "output_type": "stream",
          "name": "stdout",
          "text": [
            "hey there\n"
          ]
        }
      ]
    },
    {
      "cell_type": "code",
      "source": [
        "#several processes for adding strings\n",
        "s=\"hey\"\n",
        "h=\"there\"\n",
        "print(\"%s %s\"%(s,h))\n"
      ],
      "metadata": {
        "colab": {
          "base_uri": "https://localhost:8080/"
        },
        "id": "AP6iM6-_cHoX",
        "outputId": "c067ea65-2123-4d5a-a957-ab8f8273cb25"
      },
      "execution_count": null,
      "outputs": [
        {
          "output_type": "stream",
          "name": "stdout",
          "text": [
            "hey there\n"
          ]
        }
      ]
    },
    {
      "cell_type": "code",
      "source": [],
      "metadata": {
        "id": "QBhdGZiydNtl"
      },
      "execution_count": null,
      "outputs": []
    },
    {
      "cell_type": "code",
      "source": [
        "s=\"hey\"\n",
        "h=\" there\"\n",
        "print(s+h)"
      ],
      "metadata": {
        "colab": {
          "base_uri": "https://localhost:8080/"
        },
        "id": "lAcNMSCRdN5u",
        "outputId": "9428b376-ef79-4246-bd90-60b1aa4711ae"
      },
      "execution_count": null,
      "outputs": [
        {
          "output_type": "stream",
          "name": "stdout",
          "text": [
            "hey there\n"
          ]
        }
      ]
    },
    {
      "cell_type": "code",
      "source": [
        "s=78.54876467\n",
        "h=67\n",
        "print(s*h)\n",
        "print((s*h)+3)\n",
        "round(((s*h)+3),2)"
      ],
      "metadata": {
        "colab": {
          "base_uri": "https://localhost:8080/"
        },
        "id": "xCOgtD3Udzws",
        "outputId": "0b5de618-2b9e-4a98-b458-f2ea8c297fc5"
      },
      "execution_count": null,
      "outputs": [
        {
          "output_type": "stream",
          "name": "stdout",
          "text": [
            "5262.76723289\n",
            "5265.76723289\n"
          ]
        },
        {
          "output_type": "execute_result",
          "data": {
            "text/plain": [
              "5265.77"
            ]
          },
          "metadata": {},
          "execution_count": 38
        }
      ]
    },
    {
      "cell_type": "code",
      "source": [
        "s='''hey there!!\n",
        "welcome to python course!\n",
        "Its really\"fun\"'''\n",
        "print(s)"
      ],
      "metadata": {
        "colab": {
          "base_uri": "https://localhost:8080/"
        },
        "id": "OL1vTnlofvgk",
        "outputId": "d0280ffb-5404-4492-f3e1-3c2f0fe70d9d"
      },
      "execution_count": null,
      "outputs": [
        {
          "output_type": "stream",
          "name": "stdout",
          "text": [
            "hey there!!\n",
            "welcome to python course!\n",
            "Its really\"fun\"\n"
          ]
        }
      ]
    },
    {
      "cell_type": "code",
      "source": [
        "c=45\n",
        "f=(((c/5)*9)+32)\n",
        "print(f)\n"
      ],
      "metadata": {
        "colab": {
          "base_uri": "https://localhost:8080/"
        },
        "id": "6ziH61_ZgQSh",
        "outputId": "838dca99-3478-4090-8f35-41a64e95df09"
      },
      "execution_count": null,
      "outputs": [
        {
          "output_type": "stream",
          "name": "stdout",
          "text": [
            "113.0\n"
          ]
        }
      ]
    },
    {
      "cell_type": "code",
      "source": [
        "hours=int(input(\"enter hours\"))\n",
        "wages=int(input(\"enter wages\"))\n",
        "amount=(hours*wages)\n",
        "print(amount)"
      ],
      "metadata": {
        "colab": {
          "base_uri": "https://localhost:8080/"
        },
        "id": "JZl-4I_Bi0KC",
        "outputId": "c2d78e44-5496-4dc4-dd63-f594864947ec"
      },
      "execution_count": null,
      "outputs": [
        {
          "output_type": "stream",
          "name": "stdout",
          "text": [
            "enter hours78\n",
            "enter wages65\n",
            "5070\n"
          ]
        }
      ]
    },
    {
      "cell_type": "code",
      "source": [],
      "metadata": {
        "id": "WS47ZEPZkVOO"
      },
      "execution_count": null,
      "outputs": []
    }
  ]
}
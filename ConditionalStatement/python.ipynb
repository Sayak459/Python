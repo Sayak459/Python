{
  "nbformat": 4,
  "nbformat_minor": 0,
  "metadata": {
    "colab": {
      "provenance": [],
      "collapsed_sections": [],
      "authorship_tag": "ABX9TyNGWL6TAIwdKLUCfZv/oMsc",
      "include_colab_link": true
    },
    "kernelspec": {
      "name": "python3",
      "display_name": "Python 3"
    },
    "language_info": {
      "name": "python"
    }
  },
  "cells": [
    {
      "cell_type": "markdown",
      "metadata": {
        "id": "view-in-github",
        "colab_type": "text"
      },
      "source": [
        "<a href=\"https://colab.research.google.com/github/Sayak459/Python/blob/main/ConditionalStatement/python.ipynb\" target=\"_parent\"><img src=\"https://colab.research.google.com/assets/colab-badge.svg\" alt=\"Open In Colab\"/></a>"
      ]
    },
    {
      "cell_type": "code",
      "source": [
        "s=int(input(\"enter a number\"))\n",
        "g=int(input(\"enter a number\"))\n",
        "if s>g:\n",
        "  print(\"s is greater than g\")\n",
        "elif g>s:\n",
        "  print(\"g is greater than s\")\n",
        "else:\n",
        "  print(\"equal\")"
      ],
      "metadata": {
        "colab": {
          "base_uri": "https://localhost:8080/"
        },
        "id": "59C76K065u4H",
        "outputId": "cf2c0c91-6cd2-49c8-9c95-4e3c85e73d75"
      },
      "execution_count": null,
      "outputs": [
        {
          "output_type": "stream",
          "name": "stdout",
          "text": [
            "enter a number8\n",
            "enter a number8\n",
            "equal\n"
          ]
        }
      ]
    },
    {
      "cell_type": "code",
      "source": [
        "hours=int(input(\"enter the hours\"))\n",
        "rate=int(input(\"enter the rate\"))\n",
        "if hours<=40:\n",
        "  print(hours*rate)\n",
        "elif hours>40:\n",
        "    print(40*rate+(hours-40)*1.5*rate)  \n"
      ],
      "metadata": {
        "colab": {
          "base_uri": "https://localhost:8080/"
        },
        "id": "yMWBWf3f6Xml",
        "outputId": "6f8c513e-01c5-4083-d007-895d963a0807"
      },
      "execution_count": null,
      "outputs": [
        {
          "output_type": "stream",
          "name": "stdout",
          "text": [
            "enter the hours88\n",
            "enter the rate99\n",
            "11088.0\n"
          ]
        }
      ]
    },
    {
      "cell_type": "code",
      "source": [
        "s=float(input(\"enter score\"))\n",
        "if s>=0.9:\n",
        "  print(\"A\")\n",
        "elif s>=0.8:\n",
        "  print(\"B\")\n",
        "elif s>=0.7:\n",
        "  print(\"C\")\n",
        "elif s>=0.6:\n",
        "  print(\"D\")\n",
        "elif s<0.6:\n",
        "  print(\"F\")\n",
        "else:\n",
        "   print(\"ERROR\")    "
      ],
      "metadata": {
        "colab": {
          "base_uri": "https://localhost:8080/"
        },
        "id": "7eZiqfnEBcU_",
        "outputId": "c73d00b8-8de2-4efe-fc22-bfc3cb018371"
      },
      "execution_count": null,
      "outputs": [
        {
          "output_type": "stream",
          "name": "stdout",
          "text": [
            "enter score0.1\n",
            "F\n"
          ]
        }
      ]
    },
    {
      "cell_type": "code",
      "source": [
        "c=int(input('enter a temp'))\n",
        "f=((c/5)*9)+32\n",
        "print(\"the fahrenheit temp is \",f)"
      ],
      "metadata": {
        "colab": {
          "base_uri": "https://localhost:8080/"
        },
        "id": "9gsdQv2Ow3M-",
        "outputId": "b01cc5e1-89d5-4f20-b352-40e2fba17901"
      },
      "execution_count": null,
      "outputs": [
        {
          "output_type": "stream",
          "name": "stdout",
          "text": [
            "enter a temp56\n",
            "the fahrenheit temp is  132.8\n"
          ]
        }
      ]
    },
    {
      "cell_type": "code",
      "source": [
        "s=int(input(\"enter a number\"))\n",
        "if(s>=0):\n",
        "  print(\"Positive\")\n",
        "else:\n",
        "  print(\"Negative\")  "
      ],
      "metadata": {
        "colab": {
          "base_uri": "https://localhost:8080/"
        },
        "id": "6eFnebMCyaBz",
        "outputId": "9a2767d7-3065-4e2a-c6e3-70fc39f8edb8"
      },
      "execution_count": null,
      "outputs": [
        {
          "output_type": "stream",
          "name": "stdout",
          "text": [
            "enter a number-76\n",
            "Negative\n"
          ]
        }
      ]
    },
    {
      "cell_type": "code",
      "source": [
        "s=int(input(\"enter a number\"))\n",
        "d=s%2\n",
        "if(d==0):\n",
        " print(\"even\")\n",
        "else:\n",
        "  print(\"odd\")\n",
        "\n"
      ],
      "metadata": {
        "colab": {
          "base_uri": "https://localhost:8080/"
        },
        "id": "j7TSUXqXzysI",
        "outputId": "6fe596ae-dd0a-4a36-deb7-03458f8f42af"
      },
      "execution_count": null,
      "outputs": [
        {
          "output_type": "stream",
          "name": "stdout",
          "text": [
            "enter a number66\n",
            "even\n"
          ]
        }
      ]
    },
    {
      "cell_type": "code",
      "source": [
        "s=int(input(\"enter first number\"))\n",
        "f=int(input(\"enter second number\"))\n",
        "g=int(input(\"enter third number\"))\n",
        "if(s>f)and(s>g):\n",
        "  print(\"s is biggest\")\n",
        "elif(f>s)and(f>g):\n",
        " print(\"f is biggest\")\n",
        "else:\n",
        "   print(\"g is biggest\") "
      ],
      "metadata": {
        "colab": {
          "base_uri": "https://localhost:8080/"
        },
        "id": "FwcFP7v71Cac",
        "outputId": "64e4c8f2-aaad-4b3d-baaf-b7a0e9f8ca36"
      },
      "execution_count": null,
      "outputs": [
        {
          "output_type": "stream",
          "name": "stdout",
          "text": [
            "enter first number78\n",
            "enter second number99\n",
            "enter third number54\n",
            "f is biggest\n"
          ]
        }
      ]
    },
    {
      "cell_type": "code",
      "source": [
        "s=int(input(\"enter a number\"))\n",
        "d=len(str(s))\n",
        "sum=0\n",
        "while s !=0:\n",
        "  r=s%10\n",
        "  sum=sum+(r**d)\n",
        "  s=s//10\n",
        "  if(s==sum):\n",
        "   print(\"the number is armstrong\")\n",
        "  else:\n",
        "    print(\"not armstrong\") "
      ],
      "metadata": {
        "colab": {
          "base_uri": "https://localhost:8080/"
        },
        "id": "TkMF1R6g7ZTo",
        "outputId": "5e1b27c7-9649-429e-894f-805448c6aeb7"
      },
      "execution_count": null,
      "outputs": [
        {
          "output_type": "stream",
          "name": "stdout",
          "text": [
            "enter a number666\n",
            "not armstrong\n",
            "not armstrong\n",
            "not armstrong\n"
          ]
        }
      ]
    },
    {
      "cell_type": "code",
      "source": [
        "print(78//5)"
      ],
      "metadata": {
        "colab": {
          "base_uri": "https://localhost:8080/"
        },
        "id": "n7A6ZalL--j2",
        "outputId": "1b8dc081-b436-48b2-c689-684c1135ef8f"
      },
      "execution_count": null,
      "outputs": [
        {
          "output_type": "stream",
          "name": "stdout",
          "text": [
            "15\n"
          ]
        }
      ]
    }
  ]
}
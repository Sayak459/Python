{
  "cells": [
    {
      "cell_type": "markdown",
      "metadata": {
        "id": "view-in-github",
        "colab_type": "text"
      },
      "source": [
        "<a href=\"https://colab.research.google.com/github/Sayak459/Python/blob/main/Tuple/python.ipynb\" target=\"_parent\"><img src=\"https://colab.research.google.com/assets/colab-badge.svg\" alt=\"Open In Colab\"/></a>"
      ]
    },
    {
      "cell_type": "code",
      "execution_count": null,
      "metadata": {
        "colab": {
          "base_uri": "https://localhost:8080/"
        },
        "id": "6vtVbc3IPSH3",
        "outputId": "9485ca07-57da-4fc1-f51b-fd08aa6f23cf"
      },
      "outputs": [
        {
          "name": "stdout",
          "output_type": "stream",
          "text": [
            "(6, 89.87, 'sayak')\n"
          ]
        }
      ],
      "source": [
        "s=(6,89.87,'souvik')\n",
        "print(s)\n",
        "del(s)"
      ]
    },
    {
      "cell_type": "code",
      "execution_count": null,
      "metadata": {
        "colab": {
          "base_uri": "https://localhost:8080/"
        },
        "id": "lBAv92XeR2wS",
        "outputId": "0b086248-2693-482a-a7e8-a4a109552714"
      },
      "outputs": [
        {
          "name": "stdout",
          "output_type": "stream",
          "text": [
            "('sayak', 78, 98.76, 87, 'sayak')\n"
          ]
        }
      ],
      "source": [
        "s=('souvik',78,98.76)\n",
        "d=(87,'sk')\n",
        "print(s+d)"
      ]
    },
    {
      "cell_type": "code",
      "execution_count": null,
      "metadata": {
        "colab": {
          "base_uri": "https://localhost:8080/"
        },
        "id": "oOu2OiJeaVgC",
        "outputId": "84e9fbfa-a031-4eaf-cd9b-7e4209463b95"
      },
      "outputs": [
        {
          "name": "stdout",
          "output_type": "stream",
          "text": [
            "('1', '1', '1', '1', '1')\n"
          ]
        }
      ],
      "source": [
        "s=\"1\"\n",
        "s1=tuple(s*5)\n",
        "print(s1)"
      ]
    },
    {
      "cell_type": "code",
      "execution_count": null,
      "metadata": {
        "colab": {
          "base_uri": "https://localhost:8080/"
        },
        "id": "fAt53wodT4cO",
        "outputId": "9b61d25c-b4b9-4b4f-e4eb-1bd71b1c73b0"
      },
      "outputs": [
        {
          "name": "stdout",
          "output_type": "stream",
          "text": [
            "(77, 98, 43)\n"
          ]
        }
      ],
      "source": [
        "s=(65,77,98,43,74,12)\n",
        "print(s[1:4])"
      ]
    },
    {
      "cell_type": "code",
      "execution_count": null,
      "metadata": {
        "colab": {
          "base_uri": "https://localhost:8080/"
        },
        "id": "94lMTtXVSHPN",
        "outputId": "ea3ad10b-cf12-4ca8-cfd8-636ca1cb7087"
      },
      "outputs": [
        {
          "name": "stdout",
          "output_type": "stream",
          "text": [
            "(76, 77, 54)\n"
          ]
        }
      ],
      "source": [
        "s=[76,77,54]\n",
        "d=tuple(s)\n",
        "print(d)"
      ]
    },
    {
      "cell_type": "code",
      "execution_count": null,
      "metadata": {
        "colab": {
          "base_uri": "https://localhost:8080/"
        },
        "id": "lePO7XhXUNNk",
        "outputId": "cb5300f7-2cb6-43e2-e786-ed594457aaa5"
      },
      "outputs": [
        {
          "name": "stdout",
          "output_type": "stream",
          "text": [
            "5\n",
            "76\n",
            "33\n"
          ]
        }
      ],
      "source": [
        "s=(76,43,56,33,56)\n",
        "d=len(s)\n",
        "print(d)\n",
        "f=max(s)\n",
        "print(f)\n",
        "g=min(s)\n",
        "print(g)"
      ]
    },
    {
      "cell_type": "code",
      "execution_count": null,
      "metadata": {
        "id": "a9Fuar3QVBdn"
      },
      "outputs": [],
      "source": []
    },
    {
      "cell_type": "code",
      "execution_count": null,
      "metadata": {
        "colab": {
          "base_uri": "https://localhost:8080/"
        },
        "id": "r9-VPNT7VBpf",
        "outputId": "81c4a161-f87a-4435-f95a-786fb88c700b"
      },
      "outputs": [
        {
          "name": "stdout",
          "output_type": "stream",
          "text": [
            "(8.9, 56, 32, 67)\n"
          ]
        }
      ],
      "source": [
        "s=(67,32,56,8.9)\n",
        "d=tuple(reversed(s))\n",
        "print(d)"
      ]
    },
    {
      "cell_type": "code",
      "execution_count": null,
      "metadata": {
        "colab": {
          "base_uri": "https://localhost:8080/"
        },
        "id": "tk2E3YIQWpF-",
        "outputId": "3b3bec67-f820-4fd6-e1e6-e46848ae3d7c"
      },
      "outputs": [
        {
          "name": "stdout",
          "output_type": "stream",
          "text": [
            "the numbers are (78, 77, 65, 43)\n",
            "<class 'str'>\n"
          ]
        }
      ],
      "source": [
        "f=(78,77,65,43)\n",
        "d=\"the numbers are {0}\".format(f)\n",
        "print(d)\n",
        "print(type(d))"
      ]
    },
    {
      "cell_type": "code",
      "execution_count": null,
      "metadata": {
        "colab": {
          "base_uri": "https://localhost:8080/"
        },
        "id": "LYHP3JIcLUOG",
        "outputId": "ab7dcfff-dd7d-4cec-8b6b-57e6994146fa"
      },
      "outputs": [
        {
          "name": "stdout",
          "output_type": "stream",
          "text": [
            "3\n",
            "found\n"
          ]
        }
      ],
      "source": [
        "s=[45,65,78.56,(45,33),\"sayak\"]\n",
        "ctr=0\n",
        "for x in s:\n",
        "  if isinstance(x,tuple):\n",
        "    break\n",
        "  ctr+=1 \n",
        "print(ctr)\n",
        "print(\"found\")\n",
        " "
      ]
    },
    {
      "cell_type": "code",
      "execution_count": null,
      "metadata": {
        "colab": {
          "base_uri": "https://localhost:8080/"
        },
        "id": "6ygXZYzONka_",
        "outputId": "2d3604b4-0755-410b-8997-5d1a512356c1"
      },
      "outputs": [
        {
          "name": "stdout",
          "output_type": "stream",
          "text": [
            "<class 'str'>\n"
          ]
        }
      ],
      "source": [
        "s=(34,66,44)\n",
        "r=str(s)\n",
        "print(type(r))"
      ]
    },
    {
      "cell_type": "code",
      "execution_count": null,
      "metadata": {
        "colab": {
          "base_uri": "https://localhost:8080/"
        },
        "id": "LgKvJ5CdOG69",
        "outputId": "2155555d-ce80-45ab-ef33-72a832ebc8d8"
      },
      "outputs": [
        {
          "name": "stdout",
          "output_type": "stream",
          "text": [
            "1\n",
            "('s', 'a', 'y', 'a', 'k')\n"
          ]
        }
      ],
      "source": [
        "s=(33,67,\"anik\")\n",
        "print(s.index(67))\n",
        "\n",
        "\n",
        "\n",
        "d=\"sayak\"\n",
        "f=tuple(d)\n",
        "print(f)\n",
        "\n"
      ]
    },
    {
      "cell_type": "code",
      "execution_count": null,
      "metadata": {
        "colab": {
          "base_uri": "https://localhost:8080/"
        },
        "id": "M1j-uMCLWC47",
        "outputId": "6a3d834f-0183-49bd-e26d-d293602e11c1"
      },
      "outputs": [
        {
          "name": "stdout",
          "output_type": "stream",
          "text": [
            "(33,)\n",
            "(67, 33, 'sayak', 76.44, 77)\n",
            "(76.44, 77)\n",
            "(77,)\n",
            "(67, 33, 'sayak', 76.44, 77)\n"
          ]
        }
      ],
      "source": [
        "s=(67,33,\"sayak\",76.44,77)\n",
        "print(s[1:2])\n",
        "print(s[0:])\n",
        "print(s[3:])\n",
        "print(s[-1:])\n",
        "print(s[-5:])"
      ]
    },
    {
      "cell_type": "code",
      "execution_count": null,
      "metadata": {
        "colab": {
          "background_save": true,
          "base_uri": "https://localhost:8080/"
        },
        "id": "zYlUfoAwdif8",
        "outputId": "6d7c47dc-b335-4ca7-f0bc-07709039800d"
      },
      "outputs": [
        {
          "name": "stdout",
          "output_type": "stream",
          "text": [
            "Wrong Input\n",
            "Wrong Input\n"
          ]
        }
      ],
      "source": [
        "while True:\n",
        "  ch=int(input(''' Menu :-\n",
        "  1) Linear Search\n",
        "  2) Binary Search\n",
        "  3) Exit\n",
        "  '''))\n",
        "\n",
        "  if ch == 1:\n",
        "    #Linear Search\n",
        "    def search(arr, n):\n",
        " \n",
        "      for i in range(len(arr)):\n",
        " \n",
        "          if arr[i] == n:\n",
        "              return i\n",
        " \n",
        "      return -1\n",
        "    arr = []\n",
        "    x1 = int(input(\"How many elements in array :- \"))\n",
        "    for x in range(x1):\n",
        "      h=int(input(\"Enter the element in array :- \"))\n",
        "      arr.append(h)\n",
        "    n = int(input(\"Number to be searched :- \"))\n",
        " \n",
        "    # Function call\n",
        "    result = search(arr, n)\n",
        " \n",
        "    if result != -1:\n",
        "        print(\"Element is present at index\", str(result))\n",
        "    else:\n",
        "        print(\"Element is not present in array\")\n",
        "  elif ch == 2:\n",
        "    #Linear Search\n",
        "    def binary_search(arr, x):\n",
        "      low = 0\n",
        "      high = len(arr) - 1\n",
        "      mid = 0\n",
        " \n",
        "      while low <= high:\n",
        " \n",
        "          mid = (high + low) // 2\n",
        " \n",
        "          # If x is greater, ignore left half\n",
        "          if arr[mid] < x:\n",
        "              low = mid + 1\n",
        " \n",
        "          # If x is smaller, ignore right half\n",
        "          elif arr[mid] > x:\n",
        "              high = mid - 1\n",
        " \n",
        "          # means x is present at mid\n",
        "          else:\n",
        "              return mid\n",
        " \n",
        "        # If we reach here, then the element was not present\n",
        "      return -1\n",
        " \n",
        " \n",
        "    # Test array\n",
        "    arr = []\n",
        "    x1 = int(input(\"How many elements in array :- \"))\n",
        "    for x in range(x1):\n",
        "      h=int(input(\"Enter the element in array :- \"))\n",
        "      arr.append(h)\n",
        "    n = int(input(\"Number to be searched :- \"))\n",
        " \n",
        "    # Function call\n",
        "    result = binary_search(arr, n)\n",
        " \n",
        "    if result != -1:\n",
        "      print(\"Element is present at index\", str(result))\n",
        "    else:\n",
        "      print(\"Element is not present in array\")\n",
        "  elif ch==3:\n",
        "    print(\"Thanks\")\n",
        "    break\n",
        "  else:\n",
        "    print(\"Wrong Input\")"
      ]
    }
  ],
  "metadata": {
    "colab": {
      "collapsed_sections": [],
      "provenance": [],
      "include_colab_link": true
    },
    "kernelspec": {
      "display_name": "Python 3",
      "name": "python3"
    },
    "language_info": {
      "name": "python"
    }
  },
  "nbformat": 4,
  "nbformat_minor": 0
}
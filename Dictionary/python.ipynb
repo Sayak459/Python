{
  "nbformat": 4,
  "nbformat_minor": 0,
  "metadata": {
    "colab": {
      "provenance": [],
      "collapsed_sections": [],
      "authorship_tag": "ABX9TyM+pxEmw17PE1yHZrOpi6mH",
      "include_colab_link": true
    },
    "kernelspec": {
      "name": "python3",
      "display_name": "Python 3"
    },
    "language_info": {
      "name": "python"
    }
  },
  "cells": [
    {
      "cell_type": "markdown",
      "metadata": {
        "id": "view-in-github",
        "colab_type": "text"
      },
      "source": [
        "<a href=\"https://colab.research.google.com/github/Sayak459/Python/blob/main/Dictionary/python.ipynb\" target=\"_parent\"><img src=\"https://colab.research.google.com/assets/colab-badge.svg\" alt=\"Open In Colab\"/></a>"
      ]
    },
    {
      "cell_type": "code",
      "execution_count": null,
      "metadata": {
        "colab": {
          "base_uri": "https://localhost:8080/"
        },
        "id": "Yo6VllUaSXDC",
        "outputId": "1b439f1f-da31-4556-9949-f8d53e50a2c0"
      },
      "outputs": [
        {
          "output_type": "stream",
          "name": "stdout",
          "text": [
            "{'name': 'sayak', 'roll': 71, 'age': 21}\n"
          ]
        }
      ],
      "source": [
        "#Create a dictionary which has at least 5 items. Print it\n",
        "s={\"name\":\"sayak\",\"roll\":71,\"age\":21}\n",
        "print(s)"
      ]
    },
    {
      "cell_type": "code",
      "source": [
        "#Update any one of the item. Print it.\n",
        "s2={\"name\":\"sayak\",\"roll\":71}\n",
        "print(s2)\n",
        "s2[\"roll\"]=72\n",
        "print(s2)"
      ],
      "metadata": {
        "colab": {
          "base_uri": "https://localhost:8080/"
        },
        "id": "z7iWrxboUIdV",
        "outputId": "cb749d8e-5594-45f0-a258-c021a53fe9c7"
      },
      "execution_count": null,
      "outputs": [
        {
          "output_type": "stream",
          "name": "stdout",
          "text": [
            "{'name': 'sayak', 'roll': 71}\n",
            "{'name': 'sayak', 'roll': 72}\n"
          ]
        }
      ]
    },
    {
      "cell_type": "code",
      "source": [
        "#Add one more item. Print it\n",
        "s1={\"name\":\"sayak\"}\n",
        "print(s1)\n",
        "s1[\"roll\"]=71\n",
        "print(s1)"
      ],
      "metadata": {
        "colab": {
          "base_uri": "https://localhost:8080/"
        },
        "id": "o062dHOOTZFw",
        "outputId": "be3930a4-97eb-46e6-d1b2-ca850689c6a2"
      },
      "execution_count": null,
      "outputs": [
        {
          "output_type": "stream",
          "name": "stdout",
          "text": [
            "{'name': 'sayak'}\n",
            "{'name': 'sayak', 'roll': 71}\n"
          ]
        }
      ]
    },
    {
      "cell_type": "code",
      "source": [
        "#Delete a particular item mentioning key value. Print it.\n",
        "s3={\"name\":\"sayak\",\"roll\":71}\n",
        "del s3[\"name\"]\n",
        "print(s3)"
      ],
      "metadata": {
        "colab": {
          "base_uri": "https://localhost:8080/"
        },
        "id": "irE6geSJUguX",
        "outputId": "ce00194b-944c-4245-f8e2-82663ad6d1c2"
      },
      "execution_count": null,
      "outputs": [
        {
          "output_type": "stream",
          "name": "stdout",
          "text": [
            "{'roll': 71}\n"
          ]
        }
      ]
    },
    {
      "cell_type": "code",
      "source": [
        "#Delete the first item without mentioning key value. Print the dictionary.\n",
        "s4={\"name\":\"sayak\",\"roll\":71,\"age\":21}\n",
        "s4.popitem()\n",
        "print(s4)"
      ],
      "metadata": {
        "colab": {
          "base_uri": "https://localhost:8080/"
        },
        "id": "NAnlyCZkV2Y-",
        "outputId": "66ba1927-44d0-45e5-baad-398a789182cb"
      },
      "execution_count": null,
      "outputs": [
        {
          "output_type": "stream",
          "name": "stdout",
          "text": [
            "{'name': 'sayak', 'roll': 71}\n"
          ]
        }
      ]
    },
    {
      "cell_type": "code",
      "source": [
        "#Remove all items from the dictionary.\n",
        "s5={\"name\":\"sayak\",\"roll\":71,\"age\":21}\n",
        "s5.clear()\n",
        "print(s5)"
      ],
      "metadata": {
        "colab": {
          "base_uri": "https://localhost:8080/"
        },
        "outputId": "97ef3cea-3f1e-4bf4-fc9c-70ac69a6a616",
        "id": "i988EhYIXb_n"
      },
      "execution_count": null,
      "outputs": [
        {
          "output_type": "stream",
          "name": "stdout",
          "text": [
            "{}\n"
          ]
        }
      ]
    },
    {
      "cell_type": "code",
      "source": [
        "#Delete the dictionary.\n",
        "s6={\"name\":\"sayak\",\"roll\":71,\"age\":21}\n",
        "del s6\n",
        "print(s6)"
      ],
      "metadata": {
        "colab": {
          "base_uri": "https://localhost:8080/",
          "height": 200
        },
        "outputId": "e3c1cd38-f647-4c2f-da5b-1a69a18107ec",
        "id": "TlolqIp2ZANv"
      },
      "execution_count": null,
      "outputs": [
        {
          "output_type": "error",
          "ename": "NameError",
          "evalue": "ignored",
          "traceback": [
            "\u001b[0;31m---------------------------------------------------------------------------\u001b[0m",
            "\u001b[0;31mNameError\u001b[0m                                 Traceback (most recent call last)",
            "\u001b[0;32m<ipython-input-17-2d35f059350f>\u001b[0m in \u001b[0;36m<module>\u001b[0;34m\u001b[0m\n\u001b[1;32m      1\u001b[0m \u001b[0ms4\u001b[0m\u001b[0;34m=\u001b[0m\u001b[0;34m{\u001b[0m\u001b[0;34m\"name\"\u001b[0m\u001b[0;34m:\u001b[0m\u001b[0;34m\"sayak\"\u001b[0m\u001b[0;34m,\u001b[0m\u001b[0;34m\"roll\"\u001b[0m\u001b[0;34m:\u001b[0m\u001b[0;36m71\u001b[0m\u001b[0;34m,\u001b[0m\u001b[0;34m\"age\"\u001b[0m\u001b[0;34m:\u001b[0m\u001b[0;36m21\u001b[0m\u001b[0;34m}\u001b[0m\u001b[0;34m\u001b[0m\u001b[0;34m\u001b[0m\u001b[0m\n\u001b[1;32m      2\u001b[0m \u001b[0;32mdel\u001b[0m \u001b[0ms4\u001b[0m\u001b[0;34m\u001b[0m\u001b[0;34m\u001b[0m\u001b[0m\n\u001b[0;32m----> 3\u001b[0;31m \u001b[0mprint\u001b[0m\u001b[0;34m(\u001b[0m\u001b[0ms4\u001b[0m\u001b[0;34m)\u001b[0m\u001b[0;34m\u001b[0m\u001b[0;34m\u001b[0m\u001b[0m\n\u001b[0m",
            "\u001b[0;31mNameError\u001b[0m: name 's4' is not defined"
          ]
        }
      ]
    },
    {
      "cell_type": "code",
      "source": [
        "#Create a dictionary with each item being a pair of a number and its square. Do it in single line\n",
        "#of code.\n",
        "s7={n:n**2 for n in range(1,10)}\n",
        "print(s7)"
      ],
      "metadata": {
        "colab": {
          "base_uri": "https://localhost:8080/"
        },
        "outputId": "4a26a960-63cf-46e2-a0a9-0ab3372a2bc6",
        "id": "n9GSVvXfajUs"
      },
      "execution_count": null,
      "outputs": [
        {
          "output_type": "stream",
          "name": "stdout",
          "text": [
            "{1: 1, 2: 4, 3: 9, 4: 16, 5: 25, 6: 36, 7: 49, 8: 64, 9: 81}\n"
          ]
        }
      ]
    },
    {
      "cell_type": "code",
      "source": [
        "#Do the same as above only for odd numbers.\n",
        "s8={n:n**2 for n in range(1,10,2)}\n",
        "print(s8)"
      ],
      "metadata": {
        "colab": {
          "base_uri": "https://localhost:8080/"
        },
        "outputId": "80f6fc20-d925-43c6-d885-1bb37cd3482e",
        "id": "NM_hOQaib5Zn"
      },
      "execution_count": null,
      "outputs": [
        {
          "output_type": "stream",
          "name": "stdout",
          "text": [
            "{1: 1, 3: 9, 5: 25, 7: 49, 9: 81}\n"
          ]
        }
      ]
    },
    {
      "cell_type": "code",
      "source": [
        "#Print all items and keys of the dictionary\n",
        "s9={\"name\":\"sayak\",\"roll\":71,\"age\":21}\n",
        "print(s9.keys())\n",
        "print(s9.items())"
      ],
      "metadata": {
        "colab": {
          "base_uri": "https://localhost:8080/"
        },
        "outputId": "a4a59aa8-f8fd-46bf-cf9a-8db01f082e95",
        "id": "p4UFUsSMcLVs"
      },
      "execution_count": null,
      "outputs": [
        {
          "output_type": "stream",
          "name": "stdout",
          "text": [
            "dict_keys(['name', 'roll', 'age'])\n",
            "dict_items([('name', 'sayak'), ('roll', 71), ('age', 21)])\n"
          ]
        }
      ]
    },
    {
      "cell_type": "code",
      "source": [
        "#Calculate the length of the dictionary.\n",
        "s10={\"name\":\"sayak\",\"roll\":71,\"age\":21}\n",
        "len(s10)"
      ],
      "metadata": {
        "colab": {
          "base_uri": "https://localhost:8080/"
        },
        "outputId": "bae0c4ae-074f-4d29-e0b6-23c29c8fd0cf",
        "id": "dKnAlHH_dMC3"
      },
      "execution_count": null,
      "outputs": [
        {
          "output_type": "execute_result",
          "data": {
            "text/plain": [
              "3"
            ]
          },
          "metadata": {},
          "execution_count": 34
        }
      ]
    },
    {
      "cell_type": "code",
      "source": [
        "#Sort the items in the dictionary.\n",
        "s12={1:23,4:34,3:45,6:56,10:78}\n",
        "print(sorted(s12))"
      ],
      "metadata": {
        "colab": {
          "base_uri": "https://localhost:8080/"
        },
        "id": "odaDIv10fXyV",
        "outputId": "589a46ab-aeea-466a-dd15-9aa55dff9a94"
      },
      "execution_count": null,
      "outputs": [
        {
          "output_type": "stream",
          "name": "stdout",
          "text": [
            "[1, 3, 4, 6, 10]\n"
          ]
        }
      ]
    },
    {
      "cell_type": "code",
      "source": [
        "#Create two dictionaries. Concatenate them\n",
        "s13={1:\"sayak\",2:71,3:21}\n",
        "s14={4:\"anik\",5:71,6:22}\n",
        "s13.update(s14)\n",
        "print(s13)\n"
      ],
      "metadata": {
        "colab": {
          "base_uri": "https://localhost:8080/"
        },
        "outputId": "66383336-98dc-41a5-dc26-12408d733be1",
        "id": "3KI3e1tWikFW"
      },
      "execution_count": null,
      "outputs": [
        {
          "output_type": "stream",
          "name": "stdout",
          "text": [
            "{1: 'sayak', 2: 71, 3: 21, 4: 'anik', 5: 71, 6: 22}\n"
          ]
        }
      ]
    },
    {
      "cell_type": "code",
      "source": [
        "#Pop an element not present from the dictionary, provided a default value.\n",
        "s15={\"name\":\"sayak\",\"roll\":21,\"age\":22}\n",
        "vtr=\"hometown\"\n",
        "c=0\n",
        "for key in s15.keys():\n",
        "  if s15[key]==vtr:\n",
        "    c=1\n",
        "    s15.pop(key)\n",
        "    break\n",
        "if c!=1:\n",
        "  print(vtr,'NOT FOUND IN THE DICTIONARY')      "
      ],
      "metadata": {
        "colab": {
          "base_uri": "https://localhost:8080/"
        },
        "id": "gwjYh1l6lIWb",
        "outputId": "8eddbbe8-51b7-4b95-f8dc-df53487c8478"
      },
      "execution_count": null,
      "outputs": [
        {
          "output_type": "stream",
          "name": "stdout",
          "text": [
            "hometown NOT FOUND IN THE DICTIONARY\n"
          ]
        }
      ]
    },
    {
      "cell_type": "code",
      "source": [
        "#Sort the items in frozen set."
      ],
      "metadata": {
        "id": "l-zoZbt-pDjE"
      },
      "execution_count": null,
      "outputs": []
    },
    {
      "cell_type": "code",
      "source": [
        "#Write a program to check whether an item is present or not.\n",
        "myList = []\n",
        "length = int(input(\"Enter number of elements: \"))\n",
        "for i in range(0, length):\n",
        "    value = int(input())\n",
        "    myList.append(value)\n",
        "ele = int(input(\"Enter element to be searched in the list: \"))\n",
        "\n",
        "found = False\n",
        "for i in myList:\n",
        "    if(i == ele) :\n",
        "        found = True\n",
        "        break\n",
        "if(found):\n",
        "    print(\"Element found\")\n",
        "else :\n",
        "    print(\"Element not found!\")"
      ],
      "metadata": {
        "colab": {
          "base_uri": "https://localhost:8080/"
        },
        "id": "9U7VGP4euYX7",
        "outputId": "e9c3b307-4349-43ea-9f1d-bf26e02109e5"
      },
      "execution_count": null,
      "outputs": [
        {
          "output_type": "stream",
          "name": "stdout",
          "text": [
            "Enter number of elements: 3\n",
            "44\n",
            "55\n",
            "66\n",
            "Enter element to be searched in the list: 44\n",
            "Element found\n"
          ]
        }
      ]
    },
    {
      "cell_type": "code",
      "source": [
        "#Write a program to print all the items of the dictionary using loop.\n",
        "s={'a':'sayak','b':'anik','c':'souvik'}\n",
        "for key in s:\n",
        "  print(key,s[key])"
      ],
      "metadata": {
        "colab": {
          "base_uri": "https://localhost:8080/"
        },
        "id": "wBC2270ytayg",
        "outputId": "f3c3fa2e-3abc-4e2b-f110-e3da4f5fdba1"
      },
      "execution_count": null,
      "outputs": [
        {
          "output_type": "stream",
          "name": "stdout",
          "text": [
            "a sayak\n",
            "b anik\n",
            "c souvik\n"
          ]
        }
      ]
    },
    {
      "cell_type": "code",
      "source": [
        "#Write a program to map two lists (one containing color names and the other containing color\n",
        "#codes) into dictionary.\n",
        "keys = ['red', 'green', 'blue']\n",
        "values = ['#FF0000','#008000', '#0000FF']\n",
        "color_dictionary = dict(zip(keys, values))\n",
        "print(color_dictionary)"
      ],
      "metadata": {
        "id": "JCx74jgtvGzA",
        "colab": {
          "base_uri": "https://localhost:8080/"
        },
        "outputId": "229defb8-ac05-4523-b13a-c58f1cd7394d"
      },
      "execution_count": null,
      "outputs": [
        {
          "output_type": "stream",
          "name": "stdout",
          "text": [
            "{'red': '#FF0000', 'green': '#008000', 'blue': '#0000FF'}\n"
          ]
        }
      ]
    },
    {
      "cell_type": "code",
      "source": [
        "#Write a program to store student data in dictionary (name, class, subjects). Remove duplicate\n",
        "#entries\n",
        "dict = {1: ['Roy',10,'Maths'],2: ['Gargee',6,'Biology'],3: ['Shounak',12,'English'],4: ['Roy',10,'Maths']}\n",
        "new_dict={}\n",
        "lst=[]\n",
        "for key,value in dict.items():\n",
        "    if value not in lst:\n",
        "        lst.append(value)\n",
        "        new_dict[key] = value\n",
        "print(new_dict)"
      ],
      "metadata": {
        "colab": {
          "base_uri": "https://localhost:8080/"
        },
        "id": "GZ1vRnjxwt9r",
        "outputId": "f4b93d57-0f41-4a56-bc81-6d16f5e54c33"
      },
      "execution_count": null,
      "outputs": [
        {
          "output_type": "stream",
          "name": "stdout",
          "text": [
            "{1: ['Roy', 10, 'Maths'], 2: ['Gargee', 6, 'Biology'], 3: ['Shounak', 12, 'English']}\n"
          ]
        }
      ]
    },
    {
      "cell_type": "code",
      "source": [
        "#Write a program to get the maximum and minimum value in a dictionary.\n",
        "dict={'6.Name': '5.Sayak', '4.Age': 7, '3.Class': 1, '2.Roll no.': 0, '1.School': 'SLHS'}\n",
        "print(max(dict.keys()))\n",
        "print(min(dict.keys()))"
      ],
      "metadata": {
        "colab": {
          "base_uri": "https://localhost:8080/"
        },
        "id": "25sxGSmk2AXP",
        "outputId": "f7741463-7e61-4561-afc5-e53c23678308"
      },
      "execution_count": null,
      "outputs": [
        {
          "output_type": "stream",
          "name": "stdout",
          "text": [
            "6.Name\n",
            "1.School\n"
          ]
        }
      ]
    },
    {
      "cell_type": "code",
      "source": [
        "#Write a Python program to concatenate following dictionaries to create a new one using loop.\n",
        "dict = {4:'this',1:'what',3:'is'}\n",
        "dict2 = {7:'weird',6:'wow'}\n",
        "for key,value in dict2.items():\n",
        "    dict[key] = value\n",
        "print(dict)"
      ],
      "metadata": {
        "colab": {
          "base_uri": "https://localhost:8080/"
        },
        "id": "XyBFrhmN2gHB",
        "outputId": "03b2924c-b7e8-47f5-d6ae-814edf5d52b7"
      },
      "execution_count": null,
      "outputs": [
        {
          "output_type": "stream",
          "name": "stdout",
          "text": [
            "{4: 'this', 1: 'what', 3: 'is', 7: 'weird', 6: 'wow'}\n"
          ]
        }
      ]
    },
    {
      "cell_type": "code",
      "source": [
        "#Write a Python program to multiply all the items in a dictionary.\n",
        "d = {1:10, 2:5, 3:7}\n",
        "answer=1\n",
        "for i in d.values():\n",
        "    answer=answer*i\n",
        "print(answer)"
      ],
      "metadata": {
        "colab": {
          "base_uri": "https://localhost:8080/"
        },
        "id": "sUTzZs4O2ysn",
        "outputId": "644b83f7-6361-4ff5-e491-924d7a5a0ff9"
      },
      "execution_count": null,
      "outputs": [
        {
          "output_type": "stream",
          "name": "stdout",
          "text": [
            "350\n"
          ]
        }
      ]
    },
    {
      "cell_type": "code",
      "source": [
        "#Write a Python program to sum all the items in a dictionary.\n",
        "d = {1:10, 2:5, 3:7}\n",
        "answer=0\n",
        "for i in d.values():\n",
        "    answer=answer+i\n",
        "print(answer)"
      ],
      "metadata": {
        "colab": {
          "base_uri": "https://localhost:8080/"
        },
        "id": "Gjdgot_y3Wa_",
        "outputId": "b0240942-d179-423c-ea8f-7c2223863f54"
      },
      "execution_count": null,
      "outputs": [
        {
          "output_type": "stream",
          "name": "stdout",
          "text": [
            "22\n"
          ]
        }
      ]
    },
    {
      "cell_type": "code",
      "source": [
        "#Write a Python program to sort a dictionary by key.\n",
        "dict = {1:10,3:30,5:50,2:20,4:40}\n",
        "dict2 = {}\n",
        "for i in sorted(dict.keys()):\n",
        "    dict2[i] = dict[i]\n",
        "print(dict2)"
      ],
      "metadata": {
        "colab": {
          "base_uri": "https://localhost:8080/"
        },
        "id": "KGbpm_9o3wgg",
        "outputId": "e20a7a79-025e-4f2a-a660-7888aef76a06"
      },
      "execution_count": null,
      "outputs": [
        {
          "output_type": "stream",
          "name": "stdout",
          "text": [
            "{1: 10, 2: 20, 3: 30, 4: 40, 5: 50}\n"
          ]
        }
      ]
    },
    {
      "cell_type": "code",
      "source": [
        "#Write a Python program to check a dictionary is empty or not.\n",
        "d= {}\n",
        "if (len(d)==0):\n",
        "    print('Dictionary is empty.')\n",
        "else:\n",
        "    print('Dictionary is not empty.')"
      ],
      "metadata": {
        "colab": {
          "base_uri": "https://localhost:8080/"
        },
        "id": "t11-YyPT375R",
        "outputId": "d7a8507c-96a6-4a8d-cff4-e1758344d7ee"
      },
      "execution_count": null,
      "outputs": [
        {
          "output_type": "stream",
          "name": "stdout",
          "text": [
            "Dictionary is empty.\n"
          ]
        }
      ]
    },
    {
      "cell_type": "code",
      "source": [
        "#Write a Python program that generates a set of prime numbers and another set of odd numbers.\n",
        "#Demonstrate the result of union, intersection, difference, and symmetric difference operations on\n",
        "#these sets.\n",
        "prime = set()\n",
        "odd = set()\n",
        "for i in range(1,15):\n",
        "    if i%2 != 0:\n",
        "        odd.add(i)\n",
        "    c=0\n",
        "    for j in range(2,i//2 + 1):\n",
        "        if(i%j==0):\n",
        "            c=1\n",
        "            break\n",
        "        if(c==0):\n",
        "            prime.add(i)\n",
        "print('The union :',(odd | prime))\n",
        "print('The intersection :',(odd & prime))\n",
        "print('The difference :',(odd - prime))\n",
        "print('The symmetric difference :',(odd ^ prime))\n"
      ],
      "metadata": {
        "colab": {
          "base_uri": "https://localhost:8080/"
        },
        "id": "X8xjG17M4KJH",
        "outputId": "c9bdf23b-71cf-424c-a4ae-0a58aeba07e3"
      },
      "execution_count": null,
      "outputs": [
        {
          "output_type": "stream",
          "name": "stdout",
          "text": [
            "The union : {1, 3, 5, 7, 9, 11, 13}\n",
            "The intersection : {5, 7, 9, 11, 13}\n",
            "The difference : {1, 3}\n",
            "The symmetric difference : {1, 3}\n"
          ]
        }
      ]
    },
    {
      "cell_type": "code",
      "source": [
        "#Write a Python program that creates two sets. One of even numbers in range 1-10 and the other has\n",
        "#all composite numbers in range 1-20. Demonstrate the use of all( ), issuperset(), len(), and sum()\n",
        "#functions on the sets.\n",
        "comp = set()\n",
        "even = set()\n",
        "for i in range(1,11):\n",
        "    if i%2 == 0:\n",
        "        even.add(i)\n",
        "for i in range(1,21):\n",
        "    c=0\n",
        "    for j in range(2,i//2 + 1):\n",
        "        if (i%j==0):\n",
        "            c=1\n",
        "            break\n",
        "    if(c==1):\n",
        "        comp.add(i)\n",
        "print('Is set iterable ?',all(comp))\n",
        "print('Even set is a superset of composite set ?',even.issuperset(comp))\n",
        "print('The length of even set :',len(even))\n",
        "print('The sum of even set :',sum(even))\n"
      ],
      "metadata": {
        "colab": {
          "base_uri": "https://localhost:8080/"
        },
        "id": "D7CYPD6B4oZX",
        "outputId": "d6f01abd-e433-4997-fbaa-47382f24a3f2"
      },
      "execution_count": null,
      "outputs": [
        {
          "output_type": "stream",
          "name": "stdout",
          "text": [
            "Is set iterable ? True\n",
            "Even set is a superset of composite set ? False\n",
            "The length of even set : 5\n",
            "The sum of even set : 30\n"
          ]
        }
      ]
    },
    {
      "cell_type": "code",
      "source": [
        "#Write a Python program which creates two dictionaries. One that stores conversion values from\n",
        "#meters to centimeters and the other that stores the reverse.\n",
        "dict ={}\n",
        "dict_rev={}\n",
        "for _ in range(4):\n",
        "    val = int(input('Values in Meter : '))\n",
        "    dict[val] = val*100\n",
        "    dict_rev[val*100] =val\n",
        "print('m to cm : ',dict)\n",
        "print('cm to m : ',dict_rev)"
      ],
      "metadata": {
        "colab": {
          "base_uri": "https://localhost:8080/"
        },
        "id": "ZpENISYJ5IIH",
        "outputId": "c5a1fa6b-636e-4603-9996-21698befdffd"
      },
      "execution_count": null,
      "outputs": [
        {
          "output_type": "stream",
          "name": "stdout",
          "text": [
            "Values in Meter : 34\n",
            "Values in Meter : 43\n",
            "Values in Meter : 66\n",
            "Values in Meter : 99\n",
            "m to cm :  {34: 3400, 43: 4300, 66: 6600, 99: 9900}\n",
            "cm to m :  {3400: 34, 4300: 43, 6600: 66, 9900: 99}\n"
          ]
        }
      ]
    },
    {
      "cell_type": "code",
      "source": [
        "#Write a Python program to store a sparse matrix as a dictionary.\n",
        "mat = [[0, 0, 0, 1, 0],\t[2, 0, 0, 0, 3],[0, 0, 0, 4, 0]]\n",
        "dict = {}\n",
        "for i in range(len(mat)):\n",
        "\tfor j in range(len(mat[i])):\n",
        "\t\tif mat[i][j] != 0:\n",
        "\t\t\tdict[i,j] = mat[i][j]\n",
        "print(dict)"
      ],
      "metadata": {
        "colab": {
          "base_uri": "https://localhost:8080/"
        },
        "id": "mQN2qOw95mwf",
        "outputId": "ee3acf00-6afb-41d5-f2d8-43a841f0b790"
      },
      "execution_count": null,
      "outputs": [
        {
          "output_type": "stream",
          "name": "stdout",
          "text": [
            "{(0, 3): 1, (1, 0): 2, (1, 4): 3, (2, 3): 4}\n"
          ]
        }
      ]
    },
    {
      "cell_type": "code",
      "source": [
        "#Write a Python program that creates a dictionary of cubes of odd numbers in the range 1-10 (in a\n",
        "#single statement).\n",
        "a= int(input(\"Please enter the maximum number:\"))\n",
        "dict={i:i**3 for i in range(1,a+1,2)}\n",
        "print(dict)"
      ],
      "metadata": {
        "colab": {
          "base_uri": "https://localhost:8080/"
        },
        "id": "GZHKU2hI6Fh-",
        "outputId": "98249e3e-1912-42ae-a920-8dc81b3233b2"
      },
      "execution_count": null,
      "outputs": [
        {
          "output_type": "stream",
          "name": "stdout",
          "text": [
            "Please enter the maximum number:34\n",
            "{1: 1, 3: 27, 5: 125, 7: 343, 9: 729, 11: 1331, 13: 2197, 15: 3375, 17: 4913, 19: 6859, 21: 9261, 23: 12167, 25: 15625, 27: 19683, 29: 24389, 31: 29791, 33: 35937}\n"
          ]
        }
      ]
    },
    {
      "cell_type": "code",
      "source": [
        "#Write a Python program that inverts a dictionary, i.e., it makes key of one dictionary value of\n",
        "#another and vice versa.\n",
        "dict = {1:'hell',2:'is',3:'full',4:'of',5:'people',6:'like',7:'me'}\n",
        "dict_inv={}\n",
        "for key,value in dict.items():\n",
        "    dict_inv[value]=key\n",
        "print(dict)\n",
        "print(dict_inv)"
      ],
      "metadata": {
        "colab": {
          "base_uri": "https://localhost:8080/"
        },
        "id": "2Mw5n8u26duo",
        "outputId": "86caf225-3882-4f5e-dfee-53694f2fceed"
      },
      "execution_count": null,
      "outputs": [
        {
          "output_type": "stream",
          "name": "stdout",
          "text": [
            "{1: 'hell', 2: 'is', 3: 'full', 4: 'of', 5: 'people', 6: 'like', 7: 'me'}\n",
            "{'hell': 1, 'is': 2, 'full': 3, 'of': 4, 'people': 5, 'like': 6, 'me': 7}\n"
          ]
        }
      ]
    },
    {
      "cell_type": "code",
      "source": [
        "#Write a Python program that has dictionary of names of students and a list of their marks in 4\n",
        "#subjects. Create another dictionary from this dictionary that has name of the students and their total\n",
        "#marks. Find out the topper and his/ her score.\n",
        "dict = {'Me' : [10,10,10,10],'Myself' : [10,10,10,9],'I':[10,10,10,8]}\n",
        "dict2 = {}\n",
        "for key,value in dict.items():\n",
        "    dict2[key] = sum(value)\n",
        "maxi = max(dict2.values())\n",
        "for key,value in dict2.items():\n",
        "    if value == maxi:\n",
        "        print('The topper is',key)"
      ],
      "metadata": {
        "colab": {
          "base_uri": "https://localhost:8080/"
        },
        "id": "25p1fPcC8QJ_",
        "outputId": "1065f171-2028-49d0-882d-811b8eb9935e"
      },
      "execution_count": null,
      "outputs": [
        {
          "output_type": "stream",
          "name": "stdout",
          "text": [
            "The topper is Me\n"
          ]
        }
      ]
    },
    {
      "cell_type": "code",
      "source": [
        "#Write a Python program that displays information about an employee. Use nested dictionary to do\n",
        "#this task.\n",
        "from typing import Dict\n",
        "\n",
        "\n",
        "dict= {1: {'Name': 'Sayak', 'Age': 19, 'Sex': 'Male'}, 2:{'Name': 'anik', 'Age': 19, 'Sex': 'Female'}}\n",
        "print(dict)"
      ],
      "metadata": {
        "colab": {
          "base_uri": "https://localhost:8080/"
        },
        "id": "2hHAvctF9DJ4",
        "outputId": "6abb2b5c-24c9-4148-e55b-7f02138e00ae"
      },
      "execution_count": null,
      "outputs": [
        {
          "output_type": "stream",
          "name": "stdout",
          "text": [
            "{1: {'Name': 'Sayak', 'Age': 19, 'Sex': 'Male'}, 2: {'Name': 'anik', 'Age': 19, 'Sex': 'Female'}}\n"
          ]
        }
      ]
    },
    {
      "cell_type": "code",
      "source": [
        "#Create a dictionary of products purchased and their MRPs. Calculate the bill and display to the\n",
        "#customer.\n",
        "dict = {'purse':50,'belt':60,'shoe':100,'sock':310}\n",
        "money=0\n",
        "for i in dict.keys():\n",
        "    print('Enter the quantity of',i,': ',end='')\n",
        "    a = int(input())\n",
        "    money = money + (dict[i]*a)\n",
        "print('The bill is Rs.',money)"
      ],
      "metadata": {
        "colab": {
          "base_uri": "https://localhost:8080/"
        },
        "id": "HnR6P_As993b",
        "outputId": "4ecd140b-a7df-4e1a-8383-1acdd127dcbb"
      },
      "execution_count": null,
      "outputs": [
        {
          "output_type": "stream",
          "name": "stdout",
          "text": [
            "Enter the quantity of purse : 340\n",
            "Enter the quantity of belt : 568\n",
            "Enter the quantity of shoe : 88\n",
            "Enter the quantity of sock : 122333\n",
            "The bill is Rs. 37983110\n"
          ]
        }
      ]
    },
    {
      "cell_type": "code",
      "source": [
        "#Write a program that has a dictionary of your friends’ name (as keys) and their birthdays. Print the\n",
        "#items in the dictionary in a sorted order. Prompt the user to enter a name and check if it is present\n",
        "#in the dictionary. If the name does not exist, then ask the user to enter DOB. Add the details in the\n",
        "#dictionary.\n",
        "from datetime import datetime\n",
        "\n",
        "def get_key(val):\n",
        "    for key, value in dict.items():\n",
        "        if val == value:\n",
        "            return key\n",
        "\n",
        "def sorting():\n",
        "    lst=[]\n",
        "    for key,value in dict.items():\n",
        "        lst.append(value)\n",
        "    lst.sort(key = lambda date: datetime.strptime(date,\"%d %b %Y\"))\n",
        "    for i in lst:\n",
        "        print(get_key(i),'->',i)\n",
        "\n",
        "dict = {'Soumodeep' : '26 Feb 2003','Dipan' : '19 Sep 2003','Aranya' : '30 Aug 2002','Koyena' : '30 Sep 2002'}\n",
        "\n",
        "sorting()\n",
        "\n",
        "print('Enter -1 to stop.')\n",
        "while True:\n",
        "    a = input('Name : ')\n",
        "    if(a=='-1'):\n",
        "        break\n",
        "    if a in dict.keys():\n",
        "        continue\n",
        "    else:\n",
        "        b = input('DOB : ')\n",
        "        dict[a]=b\n",
        "\n",
        "sorting()"
      ],
      "metadata": {
        "colab": {
          "base_uri": "https://localhost:8080/"
        },
        "id": "xBjtKSGI-e9F",
        "outputId": "ccc9a4eb-94ce-4e34-fb13-17d087df3d14"
      },
      "execution_count": null,
      "outputs": [
        {
          "metadata": {
            "tags": null
          },
          "name": "stdout",
          "output_type": "stream",
          "text": [
            "Aranya -> 30 Aug 2002\n",
            "Koyena -> 30 Sep 2002\n",
            "Soumodeep -> 26 Feb 2003\n",
            "Dipan -> 19 Sep 2003\n",
            "Enter -1 to stop.\n"
          ]
        }
      ]
    },
    {
      "cell_type": "code",
      "source": [
        "#Write a Python program that displays a menu and its price. Take the order from the customer.\n",
        "#Check if the ordered product is in the menu. In case it is not there, the customer should be asked to\n",
        "#reorder and if it is present, then product should be added in the bill.\n",
        "dict = {'chicken':70,'momo':50,'drink':40,'Rice':100}\n",
        "for key,value in dict.items():\n",
        "    print(key,'->',value)\n",
        "money=0\n",
        "print('Enter -1 to stop.')\n",
        "while True:\n",
        "    a = input('Order : ')\n",
        "    if(a=='-1'):\n",
        "        break\n",
        "    if a in dict.keys():\n",
        "        money = money + dict[a]\n",
        "print('The bill is Rs.',money)"
      ],
      "metadata": {
        "id": "_ke79T5T_ZN2"
      },
      "execution_count": null,
      "outputs": []
    }
  ]
}
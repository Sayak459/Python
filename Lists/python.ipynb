{
  "nbformat": 4,
  "nbformat_minor": 0,
  "metadata": {
    "colab": {
      "provenance": [],
      "collapsed_sections": [],
      "authorship_tag": "ABX9TyPE4xTu0AI0uxR5TDpRGBX5",
      "include_colab_link": true
    },
    "kernelspec": {
      "name": "python3",
      "display_name": "Python 3"
    },
    "language_info": {
      "name": "python"
    }
  },
  "cells": [
    {
      "cell_type": "markdown",
      "metadata": {
        "id": "view-in-github",
        "colab_type": "text"
      },
      "source": [
        "<a href=\"https://colab.research.google.com/github/Sayak459/Python/blob/main/Lists/python.ipynb\" target=\"_parent\"><img src=\"https://colab.research.google.com/assets/colab-badge.svg\" alt=\"Open In Colab\"/></a>"
      ]
    },
    {
      "cell_type": "code",
      "execution_count": null,
      "metadata": {
        "colab": {
          "base_uri": "https://localhost:8080/"
        },
        "id": "meaLLaU6AK2h",
        "outputId": "b53f79cf-ff38-460d-884c-08bf61f3512c"
      },
      "outputs": [
        {
          "output_type": "stream",
          "name": "stdout",
          "text": [
            "[12, 'souvik', 12.78, 9, 'anik']\n"
          ]
        }
      ],
      "source": [
        "Sayak=[12,\"souvik\",12.78,9,\"anik\"]\n",
        "print(Sayak)"
      ]
    },
    {
      "cell_type": "code",
      "source": [
        "Sayak=[34,78,87,35]\n",
        "Sayak.remove(78)\n",
        "print(Sayak)"
      ],
      "metadata": {
        "colab": {
          "base_uri": "https://localhost:8080/"
        },
        "id": "GXPcbkoaEKi-",
        "outputId": "75964b5e-b199-417f-a29b-382efd4e7b6a"
      },
      "execution_count": null,
      "outputs": [
        {
          "output_type": "stream",
          "name": "stdout",
          "text": [
            "[34, 87, 35]\n"
          ]
        }
      ]
    },
    {
      "cell_type": "code",
      "source": [
        "s1=[12,23]\n",
        "s2=[1,3]\n",
        "s=s1+s2\n",
        "print(s)"
      ],
      "metadata": {
        "colab": {
          "base_uri": "https://localhost:8080/"
        },
        "id": "kVWiMBsrGao4",
        "outputId": "788c26a9-5375-4b55-d5dc-2af292cdd3af"
      },
      "execution_count": null,
      "outputs": [
        {
          "output_type": "stream",
          "name": "stdout",
          "text": [
            "[12, 23, 1, 3]\n"
          ]
        }
      ]
    },
    {
      "cell_type": "code",
      "source": [
        "s=int(input(\"enter the number of elements to be stored in the list :- \"))\n",
        "l=[]\n",
        "for x in range(s):\n",
        "  x1=int(input(\"Enter the number to be stored in list\"))\n",
        "  l.append(x1)\n",
        "print(l)"
      ],
      "metadata": {
        "colab": {
          "base_uri": "https://localhost:8080/"
        },
        "id": "ohF7wDyNG4Mf",
        "outputId": "775dfaf7-8321-462c-839e-deb56901d2f7"
      },
      "execution_count": null,
      "outputs": [
        {
          "output_type": "stream",
          "name": "stdout",
          "text": [
            "enter the number of elements to be stored in the list :- 3\n",
            "Enter the number to be stored in list1\n",
            "Enter the number to be stored in list2\n",
            "Enter the number to be stored in list4\n",
            "[1, 2, 4]\n"
          ]
        }
      ]
    },
    {
      "cell_type": "code",
      "source": [
        "s2=[34,\"anik\",45,987,18.87]\n",
        "print(s2[2:5])"
      ],
      "metadata": {
        "colab": {
          "base_uri": "https://localhost:8080/"
        },
        "id": "0STvFGdUJBuJ",
        "outputId": "80960c7b-69bb-43b1-d9a3-f7bceb7c9b7b"
      },
      "execution_count": null,
      "outputs": [
        {
          "output_type": "stream",
          "name": "stdout",
          "text": [
            "[45, 987, 18.87]\n"
          ]
        }
      ]
    },
    {
      "cell_type": "code",
      "source": [
        "s3=[34,76,867,\"sayak\"]\n",
        "def convert(s3):\n",
        " return tuple(s3)\n",
        "print(s3)                                                                                                                                                                                                                                   "
      ],
      "metadata": {
        "colab": {
          "base_uri": "https://localhost:8080/"
        },
        "id": "0cki2xxbK1pr",
        "outputId": "7e2999e9-8052-46b1-a8b4-ed85879a39dc"
      },
      "execution_count": null,
      "outputs": [
        {
          "output_type": "stream",
          "name": "stdout",
          "text": [
            "[34, 76, 867, 'sayak']\n"
          ]
        }
      ]
    },
    {
      "cell_type": "code",
      "source": [
        "l1=[]\n",
        "l2=[]\n",
        "l3=l1+l2\n",
        "print(l3)"
      ],
      "metadata": {
        "colab": {
          "base_uri": "https://localhost:8080/"
        },
        "id": "cVe-6CdPd7HW",
        "outputId": "28cafd50-0ca7-4a6b-d0ee-f0d7bca5fa1c"
      },
      "execution_count": null,
      "outputs": [
        {
          "output_type": "stream",
          "name": "stdout",
          "text": [
            "[]\n"
          ]
        }
      ]
    },
    {
      "cell_type": "code",
      "source": [
        "s4=[34,98,\"sayak\",7654,]\n",
        "print(len(s4))"
      ],
      "metadata": {
        "colab": {
          "base_uri": "https://localhost:8080/"
        },
        "id": "CTgdRbbHNau1",
        "outputId": "9f8274b0-ae52-4cf6-90a8-c8b1f7c6ef40"
      },
      "execution_count": null,
      "outputs": [
        {
          "output_type": "stream",
          "name": "stdout",
          "text": [
            "4\n"
          ]
        }
      ]
    },
    {
      "cell_type": "code",
      "source": [
        "s5=[45,87,54]\n",
        "print(max(s5))"
      ],
      "metadata": {
        "colab": {
          "base_uri": "https://localhost:8080/"
        },
        "id": "JrP7vGQWONqM",
        "outputId": "72d41501-0bc3-4704-e5e5-f1a774c02a58"
      },
      "execution_count": null,
      "outputs": [
        {
          "output_type": "stream",
          "name": "stdout",
          "text": [
            "87\n"
          ]
        }
      ]
    },
    {
      "cell_type": "code",
      "source": [
        "s6=[45,76,999,427325726]\n",
        "print(min(s6))"
      ],
      "metadata": {
        "colab": {
          "base_uri": "https://localhost:8080/"
        },
        "id": "irCsOeuvOrss",
        "outputId": "dabdd0c7-c7aa-41e1-9491-7b07612705f5"
      },
      "execution_count": null,
      "outputs": [
        {
          "output_type": "stream",
          "name": "stdout",
          "text": [
            "45\n"
          ]
        }
      ]
    },
    {
      "cell_type": "code",
      "source": [
        "s7=[\"you\",65,87,45,\"hey\"]\n",
        "s8=[\"hi\",67,19.76]\n",
        "s7.append(87)\n",
        "s8.append(96)\n",
        "s9=s7+s8\n",
        "print(s9)"
      ],
      "metadata": {
        "colab": {
          "base_uri": "https://localhost:8080/"
        },
        "id": "zTNn75xnPEW8",
        "outputId": "7afcbe96-e34f-458d-c27f-6a5177014ab4"
      },
      "execution_count": null,
      "outputs": [
        {
          "output_type": "stream",
          "name": "stdout",
          "text": [
            "['you', 65, 87, 45, 'hey', 87, 'hi', 67, 19.76, 96]\n"
          ]
        }
      ]
    },
    {
      "cell_type": "code",
      "source": [
        "s10=[45,\"time\",98]\n",
        "s10.insert(4,78)\n",
        "print(s10)"
      ],
      "metadata": {
        "colab": {
          "base_uri": "https://localhost:8080/"
        },
        "id": "XxmmqCQaQmkm",
        "outputId": "eb7f9523-6817-467a-dc6d-cc16db505830"
      },
      "execution_count": null,
      "outputs": [
        {
          "output_type": "stream",
          "name": "stdout",
          "text": [
            "[45, 'time', 98, 78]\n"
          ]
        }
      ]
    },
    {
      "cell_type": "code",
      "source": [
        "s11=[45,76,34]\n",
        "s11.pop()\n",
        "print(s11)"
      ],
      "metadata": {
        "colab": {
          "base_uri": "https://localhost:8080/"
        },
        "id": "EGwDO-UcRRYd",
        "outputId": "5e181e3c-0a55-49ce-d29f-53471a977606"
      },
      "execution_count": null,
      "outputs": [
        {
          "output_type": "stream",
          "name": "stdout",
          "text": [
            "[45, 76]\n"
          ]
        }
      ]
    },
    {
      "cell_type": "code",
      "source": [
        "s12=[56,8975,315738]\n",
        "s12.remove(8975)\n",
        "print(s12)"
      ],
      "metadata": {
        "colab": {
          "base_uri": "https://localhost:8080/"
        },
        "id": "5Kv506e7RdCN",
        "outputId": "14735089-158d-46e6-db01-38c34d2e293a"
      },
      "execution_count": null,
      "outputs": [
        {
          "output_type": "stream",
          "name": "stdout",
          "text": [
            "[56, 315738]\n"
          ]
        }
      ]
    },
    {
      "cell_type": "code",
      "source": [
        "s13=[\"hi\",76,56]\n",
        "s13.reverse()\n",
        "print(s13)"
      ],
      "metadata": {
        "colab": {
          "base_uri": "https://localhost:8080/"
        },
        "id": "M5tvLTNuSKte",
        "outputId": "b1945ea4-14b8-4b43-ee7a-a64b2b1c7dac"
      },
      "execution_count": null,
      "outputs": [
        {
          "output_type": "stream",
          "name": "stdout",
          "text": [
            "[56, 76, 'hi']\n"
          ]
        }
      ]
    },
    {
      "cell_type": "code",
      "source": [
        "s14=[1,2,3,4,5,6,7,8,10]\n",
        "c1=0\n",
        "e=int(input(\"Enter the number to be find :- \"))\n",
        "for x in s14:\n",
        "  if e==x:\n",
        "    print(\"found\")\n",
        "    c1=c1+1\n",
        "if c1==0:\n",
        "  print(\"Not found\")"
      ],
      "metadata": {
        "colab": {
          "base_uri": "https://localhost:8080/"
        },
        "id": "SxAZ0W1tSn8H",
        "outputId": "06bc34e8-c887-4f15-8e36-bb71cc68e2bf"
      },
      "execution_count": null,
      "outputs": [
        {
          "output_type": "stream",
          "name": "stdout",
          "text": [
            "Enter the number to be find :- 8\n",
            "found\n"
          ]
        }
      ]
    },
    {
      "cell_type": "code",
      "source": [
        "l=[]\n",
        "for x in range(10):\n",
        "  q=x**3\n",
        "  l.append(q)\n",
        "print(l)"
      ],
      "metadata": {
        "colab": {
          "base_uri": "https://localhost:8080/"
        },
        "id": "lhwE7LJXU38u",
        "outputId": "01b5adf8-b4d4-4643-f217-b7228d968d39"
      },
      "execution_count": null,
      "outputs": [
        {
          "output_type": "stream",
          "name": "stdout",
          "text": [
            "[0, 1, 8, 27, 64, 125, 216, 343, 512, 729]\n"
          ]
        }
      ]
    },
    {
      "cell_type": "code",
      "source": [
        "def histogram( items ):\n",
        "    for n in items:\n",
        "        output = ''\n",
        "        times = n\n",
        "        while( times > 0 ):\n",
        "          output += '*'\n",
        "          times = times - 1\n",
        "        print(output)\n",
        "s=int(input(\"enter the number of elements to be stored in the list :- \"))\n",
        "l=[]\n",
        "for x in range(s):\n",
        "  x1=int(input(\"Enter the number to be stored in list\"))\n",
        "  l.append(x1)\n",
        "print(l)\n",
        "histogram(l)"
      ],
      "metadata": {
        "colab": {
          "base_uri": "https://localhost:8080/"
        },
        "id": "HJEANz0EWbU_",
        "outputId": "36f67189-231d-4068-df90-d65920185ebb"
      },
      "execution_count": null,
      "outputs": [
        {
          "output_type": "stream",
          "name": "stdout",
          "text": [
            "enter the number of elements to be stored in the list :- 3\n",
            "Enter the number to be stored in list20\n",
            "Enter the number to be stored in list40\n",
            "Enter the number to be stored in list60\n",
            "[20, 40, 60]\n",
            "********************\n",
            "****************************************\n",
            "************************************************************\n"
          ]
        }
      ]
    }
  ]
}